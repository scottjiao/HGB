{
 "cells": [
  {
   "cell_type": "code",
   "execution_count": 73,
   "metadata": {},
   "outputs": [],
   "source": [
    "\n",
    "import pickle\n",
    "dataset=\"ACM\"\n",
    "with open('data/'+dataset+'/node_features.pkl','rb') as f:\n",
    "    node_features = pickle.load(f)\n",
    "with open('data/'+dataset+'/edges.pkl','rb') as f:\n",
    "    edges = pickle.load(f)\n",
    "with open('data/'+dataset+'/labels.pkl','rb') as f:\n",
    "    labels = pickle.load(f)"
   ]
  },
  {
   "cell_type": "code",
   "execution_count": 74,
   "metadata": {},
   "outputs": [
    {
     "name": "stdout",
     "output_type": "stream",
     "text": [
      "600\n",
      "300\n",
      "2125\n"
     ]
    }
   ],
   "source": [
    "print(len(labels[0]))\n",
    "print(len(labels[1]))\n",
    "print(len(labels[2]))\n",
    "#print(labels[0])"
   ]
  },
  {
   "cell_type": "code",
   "execution_count": 75,
   "metadata": {},
   "outputs": [
    {
     "data": {
      "text/plain": [
       "array([   0,    0,    0, ..., 3024, 3024, 3024], dtype=int32)"
      ]
     },
     "execution_count": 75,
     "metadata": {},
     "output_type": "execute_result"
    }
   ],
   "source": [
    "edges[0].nonzero()[0]"
   ]
  },
  {
   "cell_type": "code",
   "execution_count": 76,
   "metadata": {},
   "outputs": [],
   "source": [
    "num_nodes=node_features.shape[0]"
   ]
  },
  {
   "cell_type": "code",
   "execution_count": 77,
   "metadata": {},
   "outputs": [],
   "source": [
    "edge_occur_dict={}\n",
    "for i in range(num_nodes):\n",
    "    edge_occur_dict[i]=0\n",
    "for eadj in edges:\n",
    "    elist=eadj.nonzero()\n",
    "    for el in elist:\n",
    "        for id in el:\n",
    "            edge_occur_dict[id]=1\n",
    "for k in edge_occur_dict:\n",
    "    v=edge_occur_dict[k]\n",
    "    if v==0:\n",
    "        print(k)\n",
    "\n",
    "#首先，确定没有孤立点"
   ]
  },
  {
   "cell_type": "code",
   "execution_count": 78,
   "metadata": {},
   "outputs": [
    {
     "name": "stdout",
     "output_type": "stream",
     "text": [
      "5912 3020\n",
      "5912 3020\n",
      "5912 5912\n",
      "3020 3020\n",
      "3020 5912\n",
      "3025 3020\n",
      "3025 5912\n",
      "57 3025\n",
      "57 5912\n",
      "57 3025\n",
      "57 5912\n",
      "57 57\n",
      "3025 3025\n",
      "3025 5912\n",
      "3025 57\n"
     ]
    }
   ],
   "source": [
    "#然后，开始按照edge type 来还原node type\n",
    "num_nodes=node_features.shape[0]\n",
    "ntype_pairs_by_etype={}\n",
    "for i in range(len(edges)):\n",
    "    eadj=edges[i]\n",
    "    elist=eadj.nonzero()\n",
    "    ntype_pairs_by_etype[i]=[]\n",
    "    for src_dst in elist:\n",
    "        temp=[]\n",
    "        for idx in src_dst:\n",
    "            temp.append(idx)\n",
    "        temp=list(set(temp))\n",
    "        ntype_pairs_by_etype[i].append(temp)\n",
    "\n",
    "#ntype_pairs_by_etype[0][0]\n",
    "\n",
    "\n",
    "def compare_list(listA,listB,num_nodes):\n",
    "    dA={}\n",
    "    dB={}\n",
    "    for i in range(num_nodes):\n",
    "        dA[i]=0\n",
    "        dB[i]=0\n",
    "    for i in listA:\n",
    "        dA[i]=1\n",
    "    for i in listB:\n",
    "        dB[i]=1\n",
    "    #check\n",
    "    for i in range(num_nodes):\n",
    "        if dA[i]!=dB[i]:\n",
    "            return False\n",
    "    return True\n",
    "\n",
    "ntype_count=0\n",
    "ntype_indexer={}\n",
    "for _ in ntype_pairs_by_etype.values():\n",
    "    for idxset in _:\n",
    "        idxset=list(set(idxset))\n",
    "        #print(len(set(idxset)))\n",
    "        FLAG_new=True\n",
    "        for ntype in ntype_indexer.keys():\n",
    "            x=list(set(ntype_indexer[ntype]))\n",
    "            print(len(idxset),len(x),)\n",
    "            if compare_list(x,idxset,num_nodes):\n",
    "                FLAG_new=False\n",
    "                continue\n",
    "            if len(set(x).intersection(set(idxset)))>0:\n",
    "                #如有相交则必包含\n",
    "                #assert set(x).issubset(set(idxset)) or set(idxset).issubset(set(x))\n",
    "                #合并为大的那一个\n",
    "                if set(idxset).issubset(set(x)):\n",
    "                    FLAG_new=False\n",
    "                elif set(x).issubset(set(idxset)):\n",
    "                    ntype_indexer[ntype]=set(idxset)\n",
    "                    FLAG_new=False\n",
    "                #如有相交则必包含\n",
    "                else:\n",
    "                    raise Exception(\"如有相交则必包含\")\n",
    "\n",
    "        if FLAG_new==True:\n",
    "            ntype_indexer[ntype_count]=list(set(idxset))\n",
    "            ntype_count+=1\n",
    "\n",
    "\n",
    "#检查是否存在包含关系，如果相交则必包含\n",
    "\n",
    "\n",
    "\n",
    "\n"
   ]
  },
  {
   "cell_type": "code",
   "execution_count": 79,
   "metadata": {},
   "outputs": [
    {
     "name": "stdout",
     "output_type": "stream",
     "text": [
      "intersection: set() 0 1\n",
      "intersection: set() 0 2\n",
      "intersection: set() 1 0\n",
      "intersection: set() 1 2\n",
      "intersection: set() 2 0\n",
      "intersection: set() 2 1\n"
     ]
    }
   ],
   "source": [
    "#检查node type是否有唯一性\n",
    "for i in range(len(ntype_indexer.keys())):\n",
    "    for j in range(len(ntype_indexer.keys())):\n",
    "        if i!=j:\n",
    "            x=ntype_indexer[i]\n",
    "            y=ntype_indexer[j]\n",
    "            inter=set(x).intersection(set(y))\n",
    "            print(f\"intersection: {inter}\",i,j)\n",
    "                "
   ]
  },
  {
   "cell_type": "code",
   "execution_count": 80,
   "metadata": {},
   "outputs": [
    {
     "name": "stdout",
     "output_type": "stream",
     "text": [
      "True\n"
     ]
    }
   ],
   "source": [
    "#检查node type是否有合共性（放一起构成全集）\n",
    "temp=[]\n",
    "for x in ntype_indexer.values():\n",
    "    temp.extend(x)\n",
    "print(compare_list( temp,list(range(num_nodes))  ,num_nodes))"
   ]
  },
  {
   "cell_type": "code",
   "execution_count": 81,
   "metadata": {},
   "outputs": [],
   "source": [
    "#检查是否需要id-remapping\n",
    "id_remapping_FLAG=False\n",
    "for idxset in ntype_indexer.values():\n",
    "    idxset=sorted(idxset)\n",
    "    for i in range(len(idxset)-1):\n",
    "        if idxset[i]!=idxset[i+1]-1:     #node id 需要是连续的，在同一个node type里面\n",
    "            print(f\"idxset[i],idxset[i+1] : {idxset[i],idxset[i+1]}\")\n",
    "            id_remapping_FLAG=True\n",
    "\n",
    "\n",
    "    \n",
    "\n"
   ]
  },
  {
   "cell_type": "code",
   "execution_count": 82,
   "metadata": {},
   "outputs": [],
   "source": [
    "#做id-remapping\n",
    "if id_remapping_FLAG:\n",
    "    id_mapping={}\n",
    "    count=0\n",
    "    for idxset in ntype_indexer.values():\n",
    "        print(f\"idxset:{len(idxset)} set:{len(set(idxset))}\")\n",
    "        for idx in set(idxset):\n",
    "            id_mapping[idx]=count\n",
    "            count+=1\n",
    "\n",
    "    assert num_nodes==  max(id_mapping.values())\n",
    "\n",
    "\n",
    "\n",
    "\n",
    "\n",
    "\n",
    "    raise NotImplementedError(\"!!!!\")\n"
   ]
  },
  {
   "cell_type": "code",
   "execution_count": 83,
   "metadata": {},
   "outputs": [],
   "source": [
    "#给node id们type\n",
    "sorted_ntype_indexer={}\n",
    "for key in ntype_indexer.keys():\n",
    "    sorted_ntype_indexer[key]=min(ntype_indexer[key])\n",
    "order_mapping={}\n",
    "sorted_ntype_indexer=sorted( [ (key,sorted_ntype_indexer[key]) for key in sorted_ntype_indexer.keys() ],  key=lambda x:x[1]   )\n",
    "for i,item in enumerate(sorted_ntype_indexer):\n",
    "    order_mapping[item[0]]=i\n",
    "temp={}\n",
    "for key in ntype_indexer.keys():\n",
    "    temp[order_mapping[key]]=ntype_indexer[key]\n",
    "ntype_indexer=temp\n",
    "node_ntype={}\n",
    "for i in range(num_nodes):\n",
    "    node_ntype[i]=None\n",
    "for key in ntype_indexer.keys():\n",
    "    for node in ntype_indexer[key]:\n",
    "        node_ntype[node]=key"
   ]
  },
  {
   "cell_type": "code",
   "execution_count": 84,
   "metadata": {},
   "outputs": [],
   "source": [
    "#generate node.dat\n",
    "\n",
    "\n",
    "with open(\"node.dat\",\"w\") as f:\n",
    "    for i in range(num_nodes):\n",
    "        idx=str(i)\n",
    "        name=\"\"\n",
    "        ntype=str(node_ntype[i])\n",
    "        feature=\",\".join(map(  lambda x:str(x) ,   list(node_features[i])  ))\n",
    "        f.write(idx+\"\\t\"+name+\"\\t\"+ntype  +\"\\t\"+feature+\"\\n\")"
   ]
  },
  {
   "cell_type": "code",
   "execution_count": null,
   "metadata": {},
   "outputs": [],
   "source": [
    "#generate link.dat\n",
    "\n",
    "with open(\"link.dat\",\"w\") as f:\n",
    "    for etype,eadj in enumerate(edges):\n",
    "        elist=eadj.nonzero()\n",
    "        src,dst=elist\n",
    "        for i in range(len(src)):\n",
    "            s,d=str(src[i]),str(dst[i])\n",
    "            et=str(etype)\n",
    "            weight=str(1)\n",
    "            f.write(s+\"\\t\"+d+\"\\t\"+et  +\"\\t\"+weight+\"\\n\")"
   ]
  },
  {
   "cell_type": "code",
   "execution_count": null,
   "metadata": {},
   "outputs": [],
   "source": [
    "#generate label.dat\n",
    "train=list(labels[0])\n",
    "valid=list(labels[1])\n",
    "train.extend(valid)\n",
    "test=list(labels[2])\n",
    "with open(\"label.dat\",\"w\") as f:\n",
    "    for idx,label in train:\n",
    "        ntype=str(node_ntype[idx])\n",
    "        idx=str(idx)\n",
    "        name=\"\"\n",
    "        label=str(label)\n",
    "        f.write(idx+\"\\t\"+name+\"\\t\"+ntype+\"\\t\"+label+\"\\n\")"
   ]
  },
  {
   "cell_type": "code",
   "execution_count": null,
   "metadata": {},
   "outputs": [],
   "source": [
    "#generate label.dat\n",
    "with open(\"label.dat.test\",\"w\") as f:\n",
    "    for idx,label in test:\n",
    "        ntype=str(node_ntype[idx])\n",
    "        idx=str(idx)\n",
    "        name=\"\"\n",
    "        label=str(label)\n",
    "        f.write(idx+\"\\t\"+name+\"\\t\"+ntype+\"\\t\"+label+\"\\n\")"
   ]
  }
 ],
 "metadata": {
  "kernelspec": {
   "display_name": "Python 3",
   "language": "python",
   "name": "python3"
  },
  "language_info": {
   "codemirror_mode": {
    "name": "ipython",
    "version": 3
   },
   "file_extension": ".py",
   "mimetype": "text/x-python",
   "name": "python",
   "nbconvert_exporter": "python",
   "pygments_lexer": "ipython3",
   "version": "3.9.7"
  }
 },
 "nbformat": 4,
 "nbformat_minor": 4
}
